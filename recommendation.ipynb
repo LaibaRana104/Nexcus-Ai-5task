{
 "cells": [
  {
   "cell_type": "markdown",
   "id": "5389e749",
   "metadata": {},
   "source": [
    "# Imports"
   ]
  },
  {
   "cell_type": "code",
   "execution_count": 4,
   "id": "5849018d",
   "metadata": {},
   "outputs": [],
   "source": [
    "import pandas as pd\n",
    "from sklearn.feature_extraction.text import TfidfVectorizer\n",
    "from sklearn.metrics.pairwise import cosine_similarity"
   ]
  },
  {
   "cell_type": "markdown",
   "id": "c7ac1829",
   "metadata": {},
   "source": [
    "# load datasets"
   ]
  },
  {
   "cell_type": "code",
   "execution_count": 8,
   "id": "f80ef2ea",
   "metadata": {},
   "outputs": [
    {
     "name": "stdout",
     "output_type": "stream",
     "text": [
      "Movies Shape: (4803, 2)\n",
      "                                      title  \\\n",
      "0                                    Avatar   \n",
      "1  Pirates of the Caribbean: At World's End   \n",
      "2                                   Spectre   \n",
      "3                     The Dark Knight Rises   \n",
      "4                               John Carter   \n",
      "\n",
      "                                            overview  \n",
      "0  In the 22nd century, a paraplegic Marine is di...  \n",
      "1  Captain Barbossa, long believed to be dead, ha...  \n",
      "2  A cryptic message from Bond’s past sends him o...  \n",
      "3  Following the death of District Attorney Harve...  \n",
      "4  John Carter is a war-weary, former military ca...  \n"
     ]
    }
   ],
   "source": [
    "movies = pd.read_csv(\"tmdb_5000_movies.csv\")\n",
    "\n",
    "# Keep only useful columns\n",
    "movies = movies[[\"title\", \"overview\"]]\n",
    "\n",
    "# Handle missing values\n",
    "movies[\"overview\"] = movies[\"overview\"].fillna(\"\")\n",
    "\n",
    "print(\"Movies Shape:\", movies.shape)\n",
    "print(movies.head())"
   ]
  },
  {
   "cell_type": "markdown",
   "id": "88664716",
   "metadata": {},
   "source": [
    "# TF-IDF vectorization"
   ]
  },
  {
   "cell_type": "code",
   "execution_count": 9,
   "id": "15f0fc65",
   "metadata": {},
   "outputs": [
    {
     "name": "stdout",
     "output_type": "stream",
     "text": [
      "TF-IDF Matrix shape: (4803, 20978)\n"
     ]
    }
   ],
   "source": [
    "# Convert overview text into numerical vectors using TF-IDF\n",
    "tfidf = TfidfVectorizer(stop_words=\"english\")\n",
    "tfidf_matrix = tfidf.fit_transform(movies[\"overview\"])\n",
    "\n",
    "print(\"TF-IDF Matrix shape:\", tfidf_matrix.shape)\n"
   ]
  },
  {
   "cell_type": "markdown",
   "id": "f38a3952",
   "metadata": {},
   "source": [
    "# cosine similarity"
   ]
  },
  {
   "cell_type": "code",
   "execution_count": 10,
   "id": "d63b5320",
   "metadata": {},
   "outputs": [],
   "source": [
    "# Compute cosine similarity between all movies\n",
    "cosine_sim = cosine_similarity(tfidf_matrix, tfidf_matrix)\n"
   ]
  },
  {
   "cell_type": "markdown",
   "id": "1839d46c",
   "metadata": {},
   "source": [
    "# Build function"
   ]
  },
  {
   "cell_type": "code",
   "execution_count": 11,
   "id": "d7d88953",
   "metadata": {},
   "outputs": [],
   "source": [
    "# Index mapping: movie title -> index\n",
    "indices = pd.Series(movies.index, index=movies[\"title\"].str.lower()).drop_duplicates()\n",
    "\n",
    "def recommend_movie(title, top_n=5):\n",
    "    title = title.lower()\n",
    "    \n",
    "    if title not in indices:\n",
    "        return f\"Movie '{title}' not found in dataset!\"\n",
    "    \n",
    "    # Get index of movie\n",
    "    idx = indices[title]\n",
    "    \n",
    "    # Get similarity scores\n",
    "    sim_scores = list(enumerate(cosine_sim[idx]))\n",
    "    \n",
    "    # Sort by similarity score\n",
    "    sim_scores = sorted(sim_scores, key=lambda x: x[1], reverse=True)\n",
    "    \n",
    "    # Get indices of top_n similar movies (excluding the movie itself)\n",
    "    sim_indices = [i[0] for i in sim_scores[1:top_n+1]]\n",
    "    \n",
    "    return movies[\"title\"].iloc[sim_indices].tolist()\n"
   ]
  },
  {
   "cell_type": "markdown",
   "id": "0ebe75e6",
   "metadata": {},
   "source": [
    "# test"
   ]
  },
  {
   "cell_type": "code",
   "execution_count": 13,
   "id": "0dc4fec8",
   "metadata": {},
   "outputs": [
    {
     "name": "stdout",
     "output_type": "stream",
     "text": [
      "🎬 Recommendations for 'Avatar':\n",
      "['Apollo 18', 'The American', 'The Matrix', 'The Inhabited Island', 'Tears of the Sun']\n",
      "\n",
      "🎬 Recommendations for 'The Dark Knight Rises':\n",
      "['The Dark Knight', 'Batman Forever', 'Batman Returns', 'Batman', 'Batman: The Dark Knight Returns, Part 2']\n",
      "\n",
      "🎬 Recommendations for 'The Avengers':\n",
      "['Avengers: Age of Ultron', 'Plastic', 'Timecop', 'This Thing of Ours', 'Thank You for Smoking']\n"
     ]
    }
   ],
   "source": [
    "print(\"🎬 Recommendations for 'Avatar':\")\n",
    "print(recommend_movie(\"Avatar\"))\n",
    "\n",
    "print(\"\\n🎬 Recommendations for 'The Dark Knight Rises':\")\n",
    "print(recommend_movie(\"The Dark Knight Rises\"))\n",
    "\n",
    "print(\"\\n🎬 Recommendations for 'The Avengers':\")\n",
    "print(recommend_movie(\"The Avengers\"))\n"
   ]
  },
  {
   "cell_type": "code",
   "execution_count": null,
   "id": "b2d7ab29",
   "metadata": {},
   "outputs": [],
   "source": []
  }
 ],
 "metadata": {
  "kernelspec": {
   "display_name": "Python 3",
   "language": "python",
   "name": "python3"
  },
  "language_info": {
   "codemirror_mode": {
    "name": "ipython",
    "version": 3
   },
   "file_extension": ".py",
   "mimetype": "text/x-python",
   "name": "python",
   "nbconvert_exporter": "python",
   "pygments_lexer": "ipython3",
   "version": "3.13.7"
  }
 },
 "nbformat": 4,
 "nbformat_minor": 5
}
